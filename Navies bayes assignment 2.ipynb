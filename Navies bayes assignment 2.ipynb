{
 "cells": [
  {
   "cell_type": "markdown",
   "id": "53834e02-90ed-4103-8f4d-6ef05b233cff",
   "metadata": {},
   "source": [
    "To find the probality that an employee is a smoker given that they used the health insurance plan you can use bayes threom.Let A be the event that an employee uses the health insurance plan .B be the event that an employee is a smoker.usiing bayes threom\n",
    "p(B|A) = p(A|B).p(B)/p(A)\n",
    "p(B) = 0.40\n",
    "p(B) = 0.70"
   ]
  },
  {
   "cell_type": "markdown",
   "id": "5167dbbf-2750-4fe7-a6cb-5106ff1c03f3",
   "metadata": {},
   "source": [
    "Bernouli's Navie Bayes and Multinomial Navie Bayes are both variants of the Native bayes alogarthim used for classfication task but they differ in the type of data they are suited for how and how they handle feature occurence:\n",
    "1. Bernouli Naive Bayes\n",
    "2. Multinomial Naive bayes"
   ]
  },
  {
   "cell_type": "markdown",
   "id": "43a6dda2-1f80-4f9e-8e85-27d868b3b206",
   "metadata": {},
   "source": [
    "In Bernouli naive missing value are typically handled by either ignoring the instances with missing value or by imputing the missing value with specfic placeholder value such as 0 or 1 depending on the nature of the data this apporach assumes that missing value are missingg completly at random and does attemptt to infer the missing values based on their other features appropriately befor applying the bernouli naives bayes alogrthim to ensure accurate result"
   ]
  },
  {
   "cell_type": "markdown",
   "id": "4bb5c5cd-5eee-4b02-907c-1dec559c1dc5",
   "metadata": {},
   "source": [
    "Yes,Gaussian Naive Bayes can be used for multiclass classfication task.it a variation of the naive bayes alogarthim \n",
    "that assumes that features are continous and have a gaussian normal ditribution it can handle multiple classes by extending the basic naive bayes apporach to incoprate "
   ]
  }
 ],
 "metadata": {
  "kernelspec": {
   "display_name": "Python 3 (ipykernel)",
   "language": "python",
   "name": "python3"
  },
  "language_info": {
   "codemirror_mode": {
    "name": "ipython",
    "version": 3
   },
   "file_extension": ".py",
   "mimetype": "text/x-python",
   "name": "python",
   "nbconvert_exporter": "python",
   "pygments_lexer": "ipython3",
   "version": "3.10.8"
  }
 },
 "nbformat": 4,
 "nbformat_minor": 5
}
